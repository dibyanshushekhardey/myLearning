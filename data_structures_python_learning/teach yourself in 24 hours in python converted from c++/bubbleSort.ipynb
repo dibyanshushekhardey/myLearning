{
 "cells": [
  {
   "cell_type": "code",
   "execution_count": 1,
   "metadata": {},
   "outputs": [
    {
     "name": "stdout",
     "output_type": "stream",
     "text": [
      "[77, 99, 44, 55, 22, 88, 11, 0, 66, 33]\n",
      "[0, 11, 22, 33, 44, 55, 66, 77, 88, 99]\n"
     ]
    }
   ],
   "source": [
    "## Example 1\n",
    "\n",
    "class ArrayBub:\n",
    "    def __init__(self):\n",
    "        self._v = []\n",
    "    def _swap(self, one, two):\n",
    "        self._v[one], self._v[two] = self._v[two], self._v[one]\n",
    "    def insert(self, value):\n",
    "        self._v.append(value)\n",
    "    def display(self):\n",
    "        print(self._v)\n",
    "    def bubbleSort(self):\n",
    "        for out in reversed(range(2, 10)):\n",
    "            for In in range(out):\n",
    "                if self._v[In] > self._v[In+1]:\n",
    "                    self._swap(In, In+1)\n",
    "\n",
    "arr = ArrayBub()\n",
    "\n",
    "arr.insert(77)\n",
    "arr.insert(99)\n",
    "arr.insert(44)\n",
    "arr.insert(55)\n",
    "arr.insert(22)\n",
    "arr.insert(88)\n",
    "arr.insert(11)\n",
    "arr.insert(00)\n",
    "arr.insert(66)\n",
    "arr.insert(33)\n",
    "\n",
    "arr.display()\n",
    "arr.bubbleSort()\n",
    "arr.display()\n",
    "    "
   ]
  },
  {
   "cell_type": "code",
   "execution_count": 3,
   "metadata": {},
   "outputs": [],
   "source": [
    "# example 2\n",
    "def bubbleSort(self):\t\n",
    "\t\tfor out in reversed(range(2, 10)):\t\n",
    "\t\t\tfor In in range(out):\t\n",
    "\t\t\t\tif self._v[In] > self._v[In + 1]:\t\n",
    "\t\t\t\t\tself._swap(In, In + 1)\n"
   ]
  },
  {
   "cell_type": "code",
   "execution_count": null,
   "metadata": {},
   "outputs": [],
   "source": []
  }
 ],
 "metadata": {
  "kernelspec": {
   "display_name": "Python 3.8.5 ('base')",
   "language": "python",
   "name": "python3"
  },
  "language_info": {
   "codemirror_mode": {
    "name": "ipython",
    "version": 3
   },
   "file_extension": ".py",
   "mimetype": "text/x-python",
   "name": "python",
   "nbconvert_exporter": "python",
   "pygments_lexer": "ipython3",
   "version": "3.8.5"
  },
  "orig_nbformat": 4,
  "vscode": {
   "interpreter": {
    "hash": "b683bd4b87c8b16609ac9a3ef3aab015b96a8503b853fa71d3fe1e7ebcd29d95"
   }
  }
 },
 "nbformat": 4,
 "nbformat_minor": 2
}
