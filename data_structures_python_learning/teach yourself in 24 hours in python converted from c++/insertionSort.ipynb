{
 "cells": [
  {
   "cell_type": "code",
   "execution_count": 2,
   "metadata": {},
   "outputs": [],
   "source": [
    "# Example 1\n",
    "def insertionSort(v, n):\n",
    "    for i in range(1, n):\n",
    "        temp = v[i]\n",
    "        j = i\n",
    "        while j > 0 and v[j-1] > temp:\n",
    "            v[j] = v[j-1]\n",
    "            j -= 1\n",
    "        v[j] = temp"
   ]
  },
  {
   "cell_type": "code",
   "execution_count": 1,
   "metadata": {},
   "outputs": [
    {
     "name": "stdout",
     "output_type": "stream",
     "text": [
      "[77, 99, 44, 55, 22, 88, 11, 0, 66, 33]\n",
      "[0, 11, 22, 33, 44, 55, 66, 77, 88, 99]\n"
     ]
    }
   ],
   "source": [
    "# Example 2\n",
    "class ArrayIns:\n",
    "    def __init__(self):\n",
    "        self._v = []\n",
    "    def insert(self, value):\n",
    "        self._v.append(value)\n",
    "    def display(self):\n",
    "        print(self._v)\n",
    "    def insertionSort(self):\n",
    "        for out in range(1, len(self._v)):\n",
    "            temp = self._v[out]\n",
    "            In = out\n",
    "            while In > 0 and self._v[In-1] > temp:\n",
    "                self._v[In] = self._v[In-1]\n",
    "                In -= 1\n",
    "            self._v[In] = temp\n",
    "\n",
    "arr = ArrayIns()\n",
    "arr.insert(77)\n",
    "arr.insert(99)\n",
    "arr.insert(44)\n",
    "arr.insert(55)\n",
    "arr.insert(22)\n",
    "arr.insert(88)\n",
    "arr.insert(11)\n",
    "arr.insert(00)\n",
    "arr.insert(66)\n",
    "arr.insert(33)\n",
    "\n",
    "arr.display()\n",
    "arr.insertionSort()\n",
    "arr.display()"
   ]
  },
  {
   "cell_type": "code",
   "execution_count": 3,
   "metadata": {},
   "outputs": [
    {
     "name": "stdout",
     "output_type": "stream",
     "text": [
      "Before sorting: \n",
      "\tLast name: Evans , First name: Patty , Age: 24\n",
      "\tLast name: Smith , First name: Doc , Age: 59\n",
      "\tLast name: Smith , First name: Lorraine , Age: 37\n",
      "\tLast name: Smith , First name: Paul , Age: 37\n",
      "\tLast name: Yee , First name: Tom , Age: 43\n",
      "\tLast name: Hashimoto , First name: Sato , Age: 21\n",
      "\tLast name: Stimson , First name: Henry , Age: 29\n",
      "\tLast name: Velasquez , First name: Jose , Age: 72\n",
      "\tLast name: Vang , First name: Minh , Age: 22\n",
      "\tLast name: Creswell , First name: Lucinda , Age: 18\n",
      "After sorting: \n",
      "\tLast name: Creswell , First name: Lucinda , Age: 18\n",
      "\tLast name: Evans , First name: Patty , Age: 24\n",
      "\tLast name: Hashimoto , First name: Sato , Age: 21\n",
      "\tLast name: Smith , First name: Doc , Age: 59\n",
      "\tLast name: Smith , First name: Lorraine , Age: 37\n",
      "\tLast name: Smith , First name: Paul , Age: 37\n",
      "\tLast name: Stimson , First name: Henry , Age: 29\n",
      "\tLast name: Vang , First name: Minh , Age: 22\n",
      "\tLast name: Velasquez , First name: Jose , Age: 72\n",
      "\tLast name: Yee , First name: Tom , Age: 43\n"
     ]
    }
   ],
   "source": [
    "# Example 3\n",
    "class Person:\n",
    "    def __init__(self, last, first, a):\n",
    "        self._lastName = last\n",
    "        self._firstName = first\n",
    "        self._age = a\n",
    "\n",
    "    def displayPerson(self):\n",
    "        print('\tLast name:', self._lastName, \n",
    "        ', First name:', self._firstName, \n",
    "        ', Age:', self._age)\n",
    "    \n",
    "    def getLast(self):\n",
    "        return self._lastName\n",
    "\n",
    "class ArrayInOb:\n",
    "    def __init__(self):\n",
    "        self._v = []\n",
    "    \n",
    "    def insert(self, last, first, age):\n",
    "        self._v.append(Person(last, first, age))\n",
    "    \n",
    "    def display(self):\n",
    "        for j in self._v:\n",
    "            j.displayPerson()\n",
    "    \n",
    "    def insertionSort(self):\n",
    "        for out in range(1, len(self._v)):\n",
    "            temp = self._v[out]\n",
    "            In = out\n",
    "            while In > 0 and self._v[In -1].getLast() > temp.getLast():\n",
    "                self._v[In] = self._v[In-1]\n",
    "                In -= 1\n",
    "            self._v[In] = temp\n",
    "\n",
    "arr = ArrayInOb()\n",
    "\n",
    "arr.insert('Evans', 'Patty', 24)\n",
    "arr.insert('Smith', 'Doc', 59)\n",
    "arr.insert('Smith', 'Lorraine', 37)\n",
    "arr.insert('Smith', 'Paul', 37)\n",
    "arr.insert('Yee', 'Tom', 43)\n",
    "arr.insert('Hashimoto', 'Sato', 21)\n",
    "arr.insert('Stimson', 'Henry', 29)\n",
    "arr.insert('Velasquez', 'Jose', 72)\n",
    "arr.insert('Vang', 'Minh', 22)\n",
    "arr.insert('Creswell', 'Lucinda', 18)\n",
    "\n",
    "print(\"Before sorting: \")\n",
    "arr.display()\n",
    "\n",
    "arr.insertionSort()\n",
    "\n",
    "print(\"After sorting: \")\n",
    "arr.display()"
   ]
  },
  {
   "cell_type": "code",
   "execution_count": null,
   "metadata": {},
   "outputs": [],
   "source": []
  }
 ],
 "metadata": {
  "kernelspec": {
   "display_name": "Python 3.8.5 ('base')",
   "language": "python",
   "name": "python3"
  },
  "language_info": {
   "codemirror_mode": {
    "name": "ipython",
    "version": 3
   },
   "file_extension": ".py",
   "mimetype": "text/x-python",
   "name": "python",
   "nbconvert_exporter": "python",
   "pygments_lexer": "ipython3",
   "version": "3.8.5"
  },
  "orig_nbformat": 4,
  "vscode": {
   "interpreter": {
    "hash": "b683bd4b87c8b16609ac9a3ef3aab015b96a8503b853fa71d3fe1e7ebcd29d95"
   }
  }
 },
 "nbformat": 4,
 "nbformat_minor": 2
}
