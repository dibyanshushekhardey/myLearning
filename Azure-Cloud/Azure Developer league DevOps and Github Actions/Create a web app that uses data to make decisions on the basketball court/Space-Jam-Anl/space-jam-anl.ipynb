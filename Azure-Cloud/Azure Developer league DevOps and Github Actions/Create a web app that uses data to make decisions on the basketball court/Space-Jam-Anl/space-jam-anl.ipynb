{
 "metadata": {
  "language_info": {
   "codemirror_mode": {
    "name": "ipython",
    "version": 3
   },
   "file_extension": ".py",
   "mimetype": "text/x-python",
   "name": "python",
   "nbconvert_exporter": "python",
   "pygments_lexer": "ipython3",
   "version": "3.8.5"
  },
  "orig_nbformat": 4,
  "kernelspec": {
   "name": "python3",
   "display_name": "Python 3.8.5 64-bit ('base': conda)"
  },
  "interpreter": {
   "hash": "d421f7e0be82773f79ff071f6681b3a26ad583fa2b319fe248c43945bdde9151"
  }
 },
 "nbformat": 4,
 "nbformat_minor": 2,
 "cells": [
  {
   "cell_type": "code",
   "execution_count": 5,
   "metadata": {},
   "outputs": [],
   "source": [
    "import pandas as pd"
   ]
  },
  {
   "cell_type": "code",
   "execution_count": 6,
   "metadata": {},
   "outputs": [],
   "source": [
    "# Import the CSV file and create a DataFrame.\n",
    "player_df_final = pd.read_csv('https://raw.githubusercontent.com/drguthals/learnwithdrg/main/SpaceJamANewLegacy/player_data_final.csv')"
   ]
  },
  {
   "cell_type": "code",
   "execution_count": 7,
   "metadata": {},
   "outputs": [
    {
     "output_type": "execute_result",
     "data": {
      "text/plain": [
       "    ID        player  points  possessions  team_pace         GP        MPG  \\\n",
       "26  31   tune_squad1  2049.0       1434.0      110.0  64.000000  38.800000   \n",
       "27  32   tune_squad2  1795.0       1481.8      112.1  62.000000  35.400000   \n",
       "28  33   tune_squad3  1805.0       1509.9      108.6  64.000000  35.400000   \n",
       "29  34   tune_squad4  1743.0       1422.4      112.9  64.000000  36.300000   \n",
       "30  35   tune_squad5  1963.0       1539.1      117.4  59.771429  35.208333   \n",
       "31  36   tune_squad6  2062.0       1505.7      111.5  59.771429  37.000000   \n",
       "32  37   tune_squad7  1845.0       1435.7      113.1  69.000000  36.900000   \n",
       "33  38   tune_squad8  1778.0       1526.4      109.3  66.000000  34.900000   \n",
       "34  39   tune_squad9  1901.0       1444.1      109.7  67.000000  36.500000   \n",
       "35  41  tune_squad11  2030.0       1431.0      112.3  68.000000  37.000000   \n",
       "36  42  tune_squad12  1631.0       1465.7      110.1  66.000000  37.500000   \n",
       "37  43  tune_squad13  1828.0       1507.2      112.7  64.000000  36.500000   \n",
       "38  44  tune_squad14  1821.0       1443.7      118.8  66.000000  36.600000   \n",
       "39  45  tune_squad15  1740.0       1443.9      114.1  68.000000  37.100000   \n",
       "40  46  tune_squad16  1993.0       1459.0      112.5  59.771429  36.900000   \n",
       "\n",
       "      TS%   AST    TO   USG  ORR   DRR  REBR        PER  \n",
       "26  0.619  31.5  14.9  35.5  8.3  17.6  12.8  28.440000  \n",
       "27  0.608  31.9  14.5  32.0  6.5  22.5  12.9  23.340000  \n",
       "28  0.622  27.9  13.9  36.0  5.9  27.7  12.2  22.410000  \n",
       "29  0.619  30.9  15.6  34.5  5.9  18.9  14.8  29.853138  \n",
       "30  0.633  32.3  16.2  34.0  5.9  19.8  13.1  27.160000  \n",
       "31  0.620  29.8  15.6  36.2  4.9  23.9  14.7  27.860000  \n",
       "32  0.634  33.2  14.0  36.5  4.1  21.5  16.4  34.260000  \n",
       "33  0.612  30.6  15.9  35.9  5.5  18.8  13.7  28.650000  \n",
       "34  0.609  27.2  14.8  35.5  5.0  21.8   8.9  20.120000  \n",
       "35  0.618  32.5  15.3  34.5  5.7  15.7  13.2  30.070000  \n",
       "36  0.613  28.4  14.4  35.7  6.5  20.7  14.0  28.400000  \n",
       "37  0.618  31.3  14.0  34.9  5.9  21.3  14.5  29.094310  \n",
       "38  0.609  27.3  13.5  35.8  7.0  23.8  11.5  22.960000  \n",
       "39  0.611  26.6  15.2  29.3  8.3  17.7  11.1  21.220000  \n",
       "40  0.627  30.4  15.0  33.7  6.3  19.3  14.1  28.760000  "
      ],
      "text/html": "<div>\n<style scoped>\n    .dataframe tbody tr th:only-of-type {\n        vertical-align: middle;\n    }\n\n    .dataframe tbody tr th {\n        vertical-align: top;\n    }\n\n    .dataframe thead th {\n        text-align: right;\n    }\n</style>\n<table border=\"1\" class=\"dataframe\">\n  <thead>\n    <tr style=\"text-align: right;\">\n      <th></th>\n      <th>ID</th>\n      <th>player</th>\n      <th>points</th>\n      <th>possessions</th>\n      <th>team_pace</th>\n      <th>GP</th>\n      <th>MPG</th>\n      <th>TS%</th>\n      <th>AST</th>\n      <th>TO</th>\n      <th>USG</th>\n      <th>ORR</th>\n      <th>DRR</th>\n      <th>REBR</th>\n      <th>PER</th>\n    </tr>\n  </thead>\n  <tbody>\n    <tr>\n      <th>26</th>\n      <td>31</td>\n      <td>tune_squad1</td>\n      <td>2049.0</td>\n      <td>1434.0</td>\n      <td>110.0</td>\n      <td>64.000000</td>\n      <td>38.800000</td>\n      <td>0.619</td>\n      <td>31.5</td>\n      <td>14.9</td>\n      <td>35.5</td>\n      <td>8.3</td>\n      <td>17.6</td>\n      <td>12.8</td>\n      <td>28.440000</td>\n    </tr>\n    <tr>\n      <th>27</th>\n      <td>32</td>\n      <td>tune_squad2</td>\n      <td>1795.0</td>\n      <td>1481.8</td>\n      <td>112.1</td>\n      <td>62.000000</td>\n      <td>35.400000</td>\n      <td>0.608</td>\n      <td>31.9</td>\n      <td>14.5</td>\n      <td>32.0</td>\n      <td>6.5</td>\n      <td>22.5</td>\n      <td>12.9</td>\n      <td>23.340000</td>\n    </tr>\n    <tr>\n      <th>28</th>\n      <td>33</td>\n      <td>tune_squad3</td>\n      <td>1805.0</td>\n      <td>1509.9</td>\n      <td>108.6</td>\n      <td>64.000000</td>\n      <td>35.400000</td>\n      <td>0.622</td>\n      <td>27.9</td>\n      <td>13.9</td>\n      <td>36.0</td>\n      <td>5.9</td>\n      <td>27.7</td>\n      <td>12.2</td>\n      <td>22.410000</td>\n    </tr>\n    <tr>\n      <th>29</th>\n      <td>34</td>\n      <td>tune_squad4</td>\n      <td>1743.0</td>\n      <td>1422.4</td>\n      <td>112.9</td>\n      <td>64.000000</td>\n      <td>36.300000</td>\n      <td>0.619</td>\n      <td>30.9</td>\n      <td>15.6</td>\n      <td>34.5</td>\n      <td>5.9</td>\n      <td>18.9</td>\n      <td>14.8</td>\n      <td>29.853138</td>\n    </tr>\n    <tr>\n      <th>30</th>\n      <td>35</td>\n      <td>tune_squad5</td>\n      <td>1963.0</td>\n      <td>1539.1</td>\n      <td>117.4</td>\n      <td>59.771429</td>\n      <td>35.208333</td>\n      <td>0.633</td>\n      <td>32.3</td>\n      <td>16.2</td>\n      <td>34.0</td>\n      <td>5.9</td>\n      <td>19.8</td>\n      <td>13.1</td>\n      <td>27.160000</td>\n    </tr>\n    <tr>\n      <th>31</th>\n      <td>36</td>\n      <td>tune_squad6</td>\n      <td>2062.0</td>\n      <td>1505.7</td>\n      <td>111.5</td>\n      <td>59.771429</td>\n      <td>37.000000</td>\n      <td>0.620</td>\n      <td>29.8</td>\n      <td>15.6</td>\n      <td>36.2</td>\n      <td>4.9</td>\n      <td>23.9</td>\n      <td>14.7</td>\n      <td>27.860000</td>\n    </tr>\n    <tr>\n      <th>32</th>\n      <td>37</td>\n      <td>tune_squad7</td>\n      <td>1845.0</td>\n      <td>1435.7</td>\n      <td>113.1</td>\n      <td>69.000000</td>\n      <td>36.900000</td>\n      <td>0.634</td>\n      <td>33.2</td>\n      <td>14.0</td>\n      <td>36.5</td>\n      <td>4.1</td>\n      <td>21.5</td>\n      <td>16.4</td>\n      <td>34.260000</td>\n    </tr>\n    <tr>\n      <th>33</th>\n      <td>38</td>\n      <td>tune_squad8</td>\n      <td>1778.0</td>\n      <td>1526.4</td>\n      <td>109.3</td>\n      <td>66.000000</td>\n      <td>34.900000</td>\n      <td>0.612</td>\n      <td>30.6</td>\n      <td>15.9</td>\n      <td>35.9</td>\n      <td>5.5</td>\n      <td>18.8</td>\n      <td>13.7</td>\n      <td>28.650000</td>\n    </tr>\n    <tr>\n      <th>34</th>\n      <td>39</td>\n      <td>tune_squad9</td>\n      <td>1901.0</td>\n      <td>1444.1</td>\n      <td>109.7</td>\n      <td>67.000000</td>\n      <td>36.500000</td>\n      <td>0.609</td>\n      <td>27.2</td>\n      <td>14.8</td>\n      <td>35.5</td>\n      <td>5.0</td>\n      <td>21.8</td>\n      <td>8.9</td>\n      <td>20.120000</td>\n    </tr>\n    <tr>\n      <th>35</th>\n      <td>41</td>\n      <td>tune_squad11</td>\n      <td>2030.0</td>\n      <td>1431.0</td>\n      <td>112.3</td>\n      <td>68.000000</td>\n      <td>37.000000</td>\n      <td>0.618</td>\n      <td>32.5</td>\n      <td>15.3</td>\n      <td>34.5</td>\n      <td>5.7</td>\n      <td>15.7</td>\n      <td>13.2</td>\n      <td>30.070000</td>\n    </tr>\n    <tr>\n      <th>36</th>\n      <td>42</td>\n      <td>tune_squad12</td>\n      <td>1631.0</td>\n      <td>1465.7</td>\n      <td>110.1</td>\n      <td>66.000000</td>\n      <td>37.500000</td>\n      <td>0.613</td>\n      <td>28.4</td>\n      <td>14.4</td>\n      <td>35.7</td>\n      <td>6.5</td>\n      <td>20.7</td>\n      <td>14.0</td>\n      <td>28.400000</td>\n    </tr>\n    <tr>\n      <th>37</th>\n      <td>43</td>\n      <td>tune_squad13</td>\n      <td>1828.0</td>\n      <td>1507.2</td>\n      <td>112.7</td>\n      <td>64.000000</td>\n      <td>36.500000</td>\n      <td>0.618</td>\n      <td>31.3</td>\n      <td>14.0</td>\n      <td>34.9</td>\n      <td>5.9</td>\n      <td>21.3</td>\n      <td>14.5</td>\n      <td>29.094310</td>\n    </tr>\n    <tr>\n      <th>38</th>\n      <td>44</td>\n      <td>tune_squad14</td>\n      <td>1821.0</td>\n      <td>1443.7</td>\n      <td>118.8</td>\n      <td>66.000000</td>\n      <td>36.600000</td>\n      <td>0.609</td>\n      <td>27.3</td>\n      <td>13.5</td>\n      <td>35.8</td>\n      <td>7.0</td>\n      <td>23.8</td>\n      <td>11.5</td>\n      <td>22.960000</td>\n    </tr>\n    <tr>\n      <th>39</th>\n      <td>45</td>\n      <td>tune_squad15</td>\n      <td>1740.0</td>\n      <td>1443.9</td>\n      <td>114.1</td>\n      <td>68.000000</td>\n      <td>37.100000</td>\n      <td>0.611</td>\n      <td>26.6</td>\n      <td>15.2</td>\n      <td>29.3</td>\n      <td>8.3</td>\n      <td>17.7</td>\n      <td>11.1</td>\n      <td>21.220000</td>\n    </tr>\n    <tr>\n      <th>40</th>\n      <td>46</td>\n      <td>tune_squad16</td>\n      <td>1993.0</td>\n      <td>1459.0</td>\n      <td>112.5</td>\n      <td>59.771429</td>\n      <td>36.900000</td>\n      <td>0.627</td>\n      <td>30.4</td>\n      <td>15.0</td>\n      <td>33.7</td>\n      <td>6.3</td>\n      <td>19.3</td>\n      <td>14.1</td>\n      <td>28.760000</td>\n    </tr>\n  </tbody>\n</table>\n</div>"
     },
     "metadata": {},
     "execution_count": 7
    }
   ],
   "source": [
    "# Create a DataFrame of only Tune Squad players.\n",
    "ts_df = player_df_final.iloc[26: , :]\n",
    "ts_df"
   ]
  },
  {
   "cell_type": "code",
   "execution_count": 9,
   "metadata": {},
   "outputs": [
    {
     "output_type": "execute_result",
     "data": {
      "text/plain": [
       "    ID              player\n",
       "0   31           Sylvester\n",
       "1   32  Marvin the Martian\n",
       "2   33         Road Runner\n",
       "3   34     Foghorn Leghorn\n",
       "4   35          Bugs Bunny\n",
       "5   36          Elmer Fudd\n",
       "6   37          Lola Bunny\n",
       "7   38           Porky Pig\n",
       "8   39     Tasmanian Devil\n",
       "9   40        Yosemite Sam\n",
       "10  41            Gossamer\n",
       "11  42              Granny\n",
       "12  43      Wile E. Coyote\n",
       "13  44              Tweety\n",
       "14  45            Penelope\n",
       "15  46          Daffy Duck"
      ],
      "text/html": "<div>\n<style scoped>\n    .dataframe tbody tr th:only-of-type {\n        vertical-align: middle;\n    }\n\n    .dataframe tbody tr th {\n        vertical-align: top;\n    }\n\n    .dataframe thead th {\n        text-align: right;\n    }\n</style>\n<table border=\"1\" class=\"dataframe\">\n  <thead>\n    <tr style=\"text-align: right;\">\n      <th></th>\n      <th>ID</th>\n      <th>player</th>\n    </tr>\n  </thead>\n  <tbody>\n    <tr>\n      <th>0</th>\n      <td>31</td>\n      <td>Sylvester</td>\n    </tr>\n    <tr>\n      <th>1</th>\n      <td>32</td>\n      <td>Marvin the Martian</td>\n    </tr>\n    <tr>\n      <th>2</th>\n      <td>33</td>\n      <td>Road Runner</td>\n    </tr>\n    <tr>\n      <th>3</th>\n      <td>34</td>\n      <td>Foghorn Leghorn</td>\n    </tr>\n    <tr>\n      <th>4</th>\n      <td>35</td>\n      <td>Bugs Bunny</td>\n    </tr>\n    <tr>\n      <th>5</th>\n      <td>36</td>\n      <td>Elmer Fudd</td>\n    </tr>\n    <tr>\n      <th>6</th>\n      <td>37</td>\n      <td>Lola Bunny</td>\n    </tr>\n    <tr>\n      <th>7</th>\n      <td>38</td>\n      <td>Porky Pig</td>\n    </tr>\n    <tr>\n      <th>8</th>\n      <td>39</td>\n      <td>Tasmanian Devil</td>\n    </tr>\n    <tr>\n      <th>9</th>\n      <td>40</td>\n      <td>Yosemite Sam</td>\n    </tr>\n    <tr>\n      <th>10</th>\n      <td>41</td>\n      <td>Gossamer</td>\n    </tr>\n    <tr>\n      <th>11</th>\n      <td>42</td>\n      <td>Granny</td>\n    </tr>\n    <tr>\n      <th>12</th>\n      <td>43</td>\n      <td>Wile E. Coyote</td>\n    </tr>\n    <tr>\n      <th>13</th>\n      <td>44</td>\n      <td>Tweety</td>\n    </tr>\n    <tr>\n      <th>14</th>\n      <td>45</td>\n      <td>Penelope</td>\n    </tr>\n    <tr>\n      <th>15</th>\n      <td>46</td>\n      <td>Daffy Duck</td>\n    </tr>\n  </tbody>\n</table>\n</div>"
     },
     "metadata": {},
     "execution_count": 9
    }
   ],
   "source": [
    "# Import Tune Squad player names.\n",
    "ts_name_df = pd.read_csv('https://raw.githubusercontent.com/drguthals/learnwithdrg/main/SpaceJamANewLegacy/tune_squad.csv', sep='\\t')\n",
    "ts_name_df"
   ]
  },
  {
   "cell_type": "code",
   "execution_count": 10,
   "metadata": {},
   "outputs": [
    {
     "output_type": "execute_result",
     "data": {
      "text/plain": [
       "   ID  player_type  points  possessions  team_pace         GP        MPG  \\\n",
       "0  31  tune_squad1  2049.0       1434.0      110.0  64.000000  38.800000   \n",
       "1  32  tune_squad2  1795.0       1481.8      112.1  62.000000  35.400000   \n",
       "2  33  tune_squad3  1805.0       1509.9      108.6  64.000000  35.400000   \n",
       "3  34  tune_squad4  1743.0       1422.4      112.9  64.000000  36.300000   \n",
       "4  35  tune_squad5  1963.0       1539.1      117.4  59.771429  35.208333   \n",
       "\n",
       "     TS%   AST    TO   USG  ORR   DRR  REBR        PER         player_name  \n",
       "0  0.619  31.5  14.9  35.5  8.3  17.6  12.8  28.440000           Sylvester  \n",
       "1  0.608  31.9  14.5  32.0  6.5  22.5  12.9  23.340000  Marvin the Martian  \n",
       "2  0.622  27.9  13.9  36.0  5.9  27.7  12.2  22.410000         Road Runner  \n",
       "3  0.619  30.9  15.6  34.5  5.9  18.9  14.8  29.853138     Foghorn Leghorn  \n",
       "4  0.633  32.3  16.2  34.0  5.9  19.8  13.1  27.160000          Bugs Bunny  "
      ],
      "text/html": "<div>\n<style scoped>\n    .dataframe tbody tr th:only-of-type {\n        vertical-align: middle;\n    }\n\n    .dataframe tbody tr th {\n        vertical-align: top;\n    }\n\n    .dataframe thead th {\n        text-align: right;\n    }\n</style>\n<table border=\"1\" class=\"dataframe\">\n  <thead>\n    <tr style=\"text-align: right;\">\n      <th></th>\n      <th>ID</th>\n      <th>player_type</th>\n      <th>points</th>\n      <th>possessions</th>\n      <th>team_pace</th>\n      <th>GP</th>\n      <th>MPG</th>\n      <th>TS%</th>\n      <th>AST</th>\n      <th>TO</th>\n      <th>USG</th>\n      <th>ORR</th>\n      <th>DRR</th>\n      <th>REBR</th>\n      <th>PER</th>\n      <th>player_name</th>\n    </tr>\n  </thead>\n  <tbody>\n    <tr>\n      <th>0</th>\n      <td>31</td>\n      <td>tune_squad1</td>\n      <td>2049.0</td>\n      <td>1434.0</td>\n      <td>110.0</td>\n      <td>64.000000</td>\n      <td>38.800000</td>\n      <td>0.619</td>\n      <td>31.5</td>\n      <td>14.9</td>\n      <td>35.5</td>\n      <td>8.3</td>\n      <td>17.6</td>\n      <td>12.8</td>\n      <td>28.440000</td>\n      <td>Sylvester</td>\n    </tr>\n    <tr>\n      <th>1</th>\n      <td>32</td>\n      <td>tune_squad2</td>\n      <td>1795.0</td>\n      <td>1481.8</td>\n      <td>112.1</td>\n      <td>62.000000</td>\n      <td>35.400000</td>\n      <td>0.608</td>\n      <td>31.9</td>\n      <td>14.5</td>\n      <td>32.0</td>\n      <td>6.5</td>\n      <td>22.5</td>\n      <td>12.9</td>\n      <td>23.340000</td>\n      <td>Marvin the Martian</td>\n    </tr>\n    <tr>\n      <th>2</th>\n      <td>33</td>\n      <td>tune_squad3</td>\n      <td>1805.0</td>\n      <td>1509.9</td>\n      <td>108.6</td>\n      <td>64.000000</td>\n      <td>35.400000</td>\n      <td>0.622</td>\n      <td>27.9</td>\n      <td>13.9</td>\n      <td>36.0</td>\n      <td>5.9</td>\n      <td>27.7</td>\n      <td>12.2</td>\n      <td>22.410000</td>\n      <td>Road Runner</td>\n    </tr>\n    <tr>\n      <th>3</th>\n      <td>34</td>\n      <td>tune_squad4</td>\n      <td>1743.0</td>\n      <td>1422.4</td>\n      <td>112.9</td>\n      <td>64.000000</td>\n      <td>36.300000</td>\n      <td>0.619</td>\n      <td>30.9</td>\n      <td>15.6</td>\n      <td>34.5</td>\n      <td>5.9</td>\n      <td>18.9</td>\n      <td>14.8</td>\n      <td>29.853138</td>\n      <td>Foghorn Leghorn</td>\n    </tr>\n    <tr>\n      <th>4</th>\n      <td>35</td>\n      <td>tune_squad5</td>\n      <td>1963.0</td>\n      <td>1539.1</td>\n      <td>117.4</td>\n      <td>59.771429</td>\n      <td>35.208333</td>\n      <td>0.633</td>\n      <td>32.3</td>\n      <td>16.2</td>\n      <td>34.0</td>\n      <td>5.9</td>\n      <td>19.8</td>\n      <td>13.1</td>\n      <td>27.160000</td>\n      <td>Bugs Bunny</td>\n    </tr>\n  </tbody>\n</table>\n</div>"
     },
     "metadata": {},
     "execution_count": 10
    }
   ],
   "source": [
    "# Merge the two DataFrames.\n",
    "ts_df = pd.merge(ts_df, ts_name_df, on='ID', how='left', suffixes=('_type', '_name'))\n",
    "ts_df.head()"
   ]
  },
  {
   "cell_type": "code",
   "execution_count": 11,
   "metadata": {},
   "outputs": [
    {
     "output_type": "execute_result",
     "data": {
      "text/plain": [
       "   ID         player_name  points  possessions  team_pace         GP  \\\n",
       "0  31           Sylvester  2049.0       1434.0      110.0  64.000000   \n",
       "1  32  Marvin the Martian  1795.0       1481.8      112.1  62.000000   \n",
       "2  33         Road Runner  1805.0       1509.9      108.6  64.000000   \n",
       "3  34     Foghorn Leghorn  1743.0       1422.4      112.9  64.000000   \n",
       "4  35          Bugs Bunny  1963.0       1539.1      117.4  59.771429   \n",
       "\n",
       "         MPG    TS%   AST    TO   USG  ORR   DRR  REBR        PER  \n",
       "0  38.800000  0.619  31.5  14.9  35.5  8.3  17.6  12.8  28.440000  \n",
       "1  35.400000  0.608  31.9  14.5  32.0  6.5  22.5  12.9  23.340000  \n",
       "2  35.400000  0.622  27.9  13.9  36.0  5.9  27.7  12.2  22.410000  \n",
       "3  36.300000  0.619  30.9  15.6  34.5  5.9  18.9  14.8  29.853138  \n",
       "4  35.208333  0.633  32.3  16.2  34.0  5.9  19.8  13.1  27.160000  "
      ],
      "text/html": "<div>\n<style scoped>\n    .dataframe tbody tr th:only-of-type {\n        vertical-align: middle;\n    }\n\n    .dataframe tbody tr th {\n        vertical-align: top;\n    }\n\n    .dataframe thead th {\n        text-align: right;\n    }\n</style>\n<table border=\"1\" class=\"dataframe\">\n  <thead>\n    <tr style=\"text-align: right;\">\n      <th></th>\n      <th>ID</th>\n      <th>player_name</th>\n      <th>points</th>\n      <th>possessions</th>\n      <th>team_pace</th>\n      <th>GP</th>\n      <th>MPG</th>\n      <th>TS%</th>\n      <th>AST</th>\n      <th>TO</th>\n      <th>USG</th>\n      <th>ORR</th>\n      <th>DRR</th>\n      <th>REBR</th>\n      <th>PER</th>\n    </tr>\n  </thead>\n  <tbody>\n    <tr>\n      <th>0</th>\n      <td>31</td>\n      <td>Sylvester</td>\n      <td>2049.0</td>\n      <td>1434.0</td>\n      <td>110.0</td>\n      <td>64.000000</td>\n      <td>38.800000</td>\n      <td>0.619</td>\n      <td>31.5</td>\n      <td>14.9</td>\n      <td>35.5</td>\n      <td>8.3</td>\n      <td>17.6</td>\n      <td>12.8</td>\n      <td>28.440000</td>\n    </tr>\n    <tr>\n      <th>1</th>\n      <td>32</td>\n      <td>Marvin the Martian</td>\n      <td>1795.0</td>\n      <td>1481.8</td>\n      <td>112.1</td>\n      <td>62.000000</td>\n      <td>35.400000</td>\n      <td>0.608</td>\n      <td>31.9</td>\n      <td>14.5</td>\n      <td>32.0</td>\n      <td>6.5</td>\n      <td>22.5</td>\n      <td>12.9</td>\n      <td>23.340000</td>\n    </tr>\n    <tr>\n      <th>2</th>\n      <td>33</td>\n      <td>Road Runner</td>\n      <td>1805.0</td>\n      <td>1509.9</td>\n      <td>108.6</td>\n      <td>64.000000</td>\n      <td>35.400000</td>\n      <td>0.622</td>\n      <td>27.9</td>\n      <td>13.9</td>\n      <td>36.0</td>\n      <td>5.9</td>\n      <td>27.7</td>\n      <td>12.2</td>\n      <td>22.410000</td>\n    </tr>\n    <tr>\n      <th>3</th>\n      <td>34</td>\n      <td>Foghorn Leghorn</td>\n      <td>1743.0</td>\n      <td>1422.4</td>\n      <td>112.9</td>\n      <td>64.000000</td>\n      <td>36.300000</td>\n      <td>0.619</td>\n      <td>30.9</td>\n      <td>15.6</td>\n      <td>34.5</td>\n      <td>5.9</td>\n      <td>18.9</td>\n      <td>14.8</td>\n      <td>29.853138</td>\n    </tr>\n    <tr>\n      <th>4</th>\n      <td>35</td>\n      <td>Bugs Bunny</td>\n      <td>1963.0</td>\n      <td>1539.1</td>\n      <td>117.4</td>\n      <td>59.771429</td>\n      <td>35.208333</td>\n      <td>0.633</td>\n      <td>32.3</td>\n      <td>16.2</td>\n      <td>34.0</td>\n      <td>5.9</td>\n      <td>19.8</td>\n      <td>13.1</td>\n      <td>27.160000</td>\n    </tr>\n  </tbody>\n</table>\n</div>"
     },
     "metadata": {},
     "execution_count": 11
    }
   ],
   "source": [
    "# Rearrange the columns to put the ID and player_name columns next to each other.\n",
    "column_list = list(ts_df)\n",
    "\n",
    "player_name = column_list.pop()\n",
    "column_list[1] = player_name\n",
    "\n",
    "ts_df = ts_df[column_list]\n",
    "ts_df.head()"
   ]
  },
  {
   "cell_type": "code",
   "execution_count": 13,
   "metadata": {},
   "outputs": [
    {
     "output_type": "execute_result",
     "data": {
      "text/plain": [
       "TS%     0.008262\n",
       "AST     2.140494\n",
       "TO      0.797197\n",
       "USG     1.892718\n",
       "ORR     1.139465\n",
       "DRR     3.017962\n",
       "REBR    1.802564\n",
       "dtype: float64"
      ]
     },
     "metadata": {},
     "execution_count": 13
    }
   ],
   "source": [
    "# Create a list of only the column names we are interested in\n",
    "game_stat_cols = list(ts_df.iloc[:, 7:-1])\n",
    "game_stat_stdevs = []\n",
    "\n",
    "# Create a list of standard deviations for each stat.\n",
    "for stat in game_stat_cols:\n",
    "    game_stat_stdevs.append(ts_df[stat].std())\n",
    "\n",
    "# Create a Series of the standard deviations with the stat names as the index.\n",
    "\n",
    "stdev_s = pd.Series(game_stat_stdevs, index=game_stat_cols)\n",
    "stdev_s"
   ]
  },
  {
   "cell_type": "code",
   "execution_count": 16,
   "metadata": {},
   "outputs": [],
   "source": [
    "# Import the models and libraries we need.\n",
    "from sklearn.linear_model import LinearRegression\n",
    "from numpy.random import randn\n",
    "\n",
    "# Get the dependent and independent variables for modeling the PER.\n",
    "X = player_df_final.iloc[:, 7:-1].to_numpy()\n",
    "y = player_df_final.iloc[:, -1]"
   ]
  },
  {
   "cell_type": "code",
   "execution_count": 17,
   "metadata": {},
   "outputs": [
    {
     "output_type": "execute_result",
     "data": {
      "text/plain": [
       "LinearRegression()"
      ]
     },
     "metadata": {},
     "execution_count": 17
    }
   ],
   "source": [
    "# Define and fit the model.\n",
    "lin_reg = LinearRegression()\n",
    "lin_reg.fit(X, y)"
   ]
  },
  {
   "cell_type": "code",
   "execution_count": 19,
   "metadata": {},
   "outputs": [
    {
     "output_type": "stream",
     "name": "stdout",
     "text": [
      "Iteration # \thigh PER \tlow PER\nIteration 1 \tWile E. Coyote \tRoad Runner\nIteration 2 \tLola Bunny \tPenelope\nIteration 3 \tSylvester \tMarvin the Martian\nIteration 4 \tElmer Fudd \tTasmanian Devil\nIteration 5 \tLola Bunny \tTasmanian Devil\nIteration 6 \tWile E. Coyote \tPenelope\nIteration 7 \tFoghorn Leghorn \tRoad Runner\nIteration 8 \tGossamer \tPenelope\nIteration 9 \tLola Bunny \tPenelope\nIteration 10 \tGranny \tPenelope\n"
     ]
    }
   ],
   "source": [
    "# Print the player with the highest and lower PER for each iteration.\n",
    "print('Iteration # \\thigh PER \\tlow PER')\n",
    "\n",
    "# Run the simulation 10 times.\n",
    "for i in range(10):\n",
    "\n",
    "    # Define an empty temporary DataFrame for each iteration.\n",
    "    # The columns of this DataFrame are the player stats and the index is the players' names.\n",
    "    game_df = pd.DataFrame(columns=game_stat_cols, index=list(ts_df['player_name']))\n",
    "    \n",
    "    # Loop through each stat.\n",
    "    for stat in game_stat_cols:\n",
    "        \n",
    "        # Each player's stats are used to generate a random value for each iteration.\n",
    "        game_df[stat] = list(ts_df[stat] + randn(len(ts_df)) * stdev_s[stat])\n",
    "    \n",
    "    # Use the fitted model to predict players' PERs based on the randomized data.\n",
    "    game_df['PER'] = lin_reg.predict(game_df)\n",
    "\n",
    "    # Print the player with the highest and lower PER for each iteration.\n",
    "    print('Iteration {}'.format(i+1) + ' \\t' + game_df['PER'].idxmax() + ' \\t' + game_df['PER'].idxmin())"
   ]
  },
  {
   "cell_type": "code",
   "execution_count": 20,
   "metadata": {},
   "outputs": [
    {
     "output_type": "execute_result",
     "data": {
      "text/plain": [
       "                                 TS%        AST         TO        USG  \\\n",
       "minutes player_name                                                     \n",
       "0       Sylvester           0.628079  31.880256  16.017350  37.528374   \n",
       "        Marvin the Martian  0.605415  32.757695  13.520061  29.814684   \n",
       "        Road Runner         0.625036  27.334554  13.237953  35.622866   \n",
       "        Foghorn Leghorn     0.622648  30.232449  14.688786  34.331606   \n",
       "        Bugs Bunny          0.622456  33.180839  16.512224  30.697316   \n",
       "        Elmer Fudd          0.611330  29.623998  14.635647  34.015978   \n",
       "        Lola Bunny          0.644617  34.454603  13.438965  35.115908   \n",
       "        Porky Pig           0.613306  30.002699  15.333303  36.308058   \n",
       "        Tasmanian Devil     0.598569  27.329570  14.700239  34.882067   \n",
       "        Gossamer            0.612884  30.100970  15.806333  31.919277   \n",
       "        Granny              0.618286  28.308636  14.258760  38.106259   \n",
       "        Wile E. Coyote      0.613921  32.520428  14.657052  34.331260   \n",
       "        Tweety              0.600960  29.290845  14.043829  37.846280   \n",
       "        Penelope            0.608109  26.250402  15.823502  24.268178   \n",
       "        Daffy Duck          0.624806  27.951104  15.308205  32.094146   \n",
       "12      Sylvester           0.617539  30.591061  15.183588  35.561725   \n",
       "        Marvin the Martian  0.613340  29.884758  13.149368  32.485235   \n",
       "        Road Runner         0.615026  27.892778  13.605268  35.975834   \n",
       "        Foghorn Leghorn     0.612199  33.345787  15.675903  36.927717   \n",
       "        Bugs Bunny          0.638842  31.542742  17.224226  32.937989   \n",
       "        Elmer Fudd          0.615975  28.377890  16.055895  33.873703   \n",
       "        Lola Bunny          0.642895  33.919682  13.584969  34.934210   \n",
       "        Porky Pig           0.603863  33.156898  15.304778  37.120794   \n",
       "        Tasmanian Devil     0.616034  28.062522  15.140335  35.723937   \n",
       "        Gossamer            0.620506  38.166957  14.397572  37.035178   \n",
       "        Granny              0.620448  24.183857  14.930653  36.265654   \n",
       "        Wile E. Coyote      0.624724  35.352435  13.231319  34.769541   \n",
       "        Tweety              0.601842  25.968105  12.176528  34.874924   \n",
       "        Penelope            0.607510  23.292980  16.309485  30.724367   \n",
       "        Daffy Duck          0.636154  32.940809  14.940294  34.480819   \n",
       "24      Sylvester           0.630594  33.204930  13.649513  38.230931   \n",
       "        Marvin the Martian  0.603953  30.844569  15.220002  33.006522   \n",
       "        Road Runner         0.630925  29.607876  12.444001  33.035540   \n",
       "        Foghorn Leghorn     0.619043  32.741681  14.093236  36.261750   \n",
       "        Bugs Bunny          0.636565  33.292072  14.410694  34.734662   \n",
       "        Elmer Fudd          0.620728  29.428950  15.460059  38.197273   \n",
       "        Lola Bunny          0.623635  35.038862  13.974588  37.848015   \n",
       "        Porky Pig           0.615351  30.626816  15.477345  34.526685   \n",
       "        Tasmanian Devil     0.623542  26.339929  14.104379  33.911297   \n",
       "        Gossamer            0.626670  28.782939  14.382570  35.330390   \n",
       "        Granny              0.598429  27.193810  13.998507  35.090184   \n",
       "        Wile E. Coyote      0.605831  29.769612  13.723313  34.191866   \n",
       "        Tweety              0.609949  27.613418  15.749649  33.566611   \n",
       "        Penelope            0.615847  23.927882  16.119896  30.711474   \n",
       "        Daffy Duck          0.625270  29.729949  14.673977  34.256712   \n",
       "36      Sylvester           0.628925  29.055106  15.174990  36.352303   \n",
       "        Marvin the Martian  0.580917  31.371771  14.530315  30.714335   \n",
       "        Road Runner         0.627653  27.806445  14.410112  38.487478   \n",
       "        Foghorn Leghorn     0.628753  31.302979  14.255742  33.119382   \n",
       "        Bugs Bunny          0.636868  30.279529  16.885360  32.295826   \n",
       "        Elmer Fudd          0.616083  28.274177  15.444813  35.697587   \n",
       "        Lola Bunny          0.636427  35.615540  13.524308  38.198518   \n",
       "        Porky Pig           0.620593  28.701993  16.209001  31.082578   \n",
       "        Tasmanian Devil     0.614812  24.583705  14.007519  36.767754   \n",
       "        Gossamer            0.628733  33.286349  14.114633  33.780562   \n",
       "        Granny              0.617895  30.687275  14.694965  37.151209   \n",
       "        Wile E. Coyote      0.593463  29.814351  14.860217  35.950947   \n",
       "        Tweety              0.618162  26.772535  14.649411  35.072876   \n",
       "        Penelope            0.616470  25.737714  14.603275  28.024761   \n",
       "        Daffy Duck          0.642876  29.368934  14.681440  32.410071   \n",
       "\n",
       "                                  ORR        DRR       REBR        PER  \n",
       "minutes player_name                                                     \n",
       "0       Sylvester            7.378314  15.808539  12.620370  30.570892  \n",
       "        Marvin the Martian   7.188854  22.245847  15.568042  26.286379  \n",
       "        Road Runner          7.347782  29.907373  11.388554  19.919127  \n",
       "        Foghorn Leghorn      5.432727  20.534902  16.691800  32.135753  \n",
       "        Bugs Bunny           6.124458  20.079316  12.121538  22.988339  \n",
       "        Elmer Fudd           4.644368  23.504214  16.471641  29.324793  \n",
       "        Lola Bunny           4.999035  17.875686  16.754739  36.810543  \n",
       "        Porky Pig            5.514761  16.961561  14.859159  32.055550  \n",
       "        Tasmanian Devil      7.823220  18.888762  10.116038  22.094018  \n",
       "        Gossamer             4.704468  17.727372  12.236466  25.237773  \n",
       "        Granny               6.228661  21.079242  15.427409  31.906166  \n",
       "        Wile E. Coyote       4.653507  19.785901  14.345618  29.284032  \n",
       "        Tweety               7.130187  20.871512  12.100195  26.263680  \n",
       "        Penelope             8.136163  15.607361  10.583555  18.151863  \n",
       "        Daffy Duck           5.937624  19.410941  13.930448  27.086036  \n",
       "12      Sylvester            6.519262  17.260559  13.854731  30.159085  \n",
       "        Marvin the Martian   5.812977  26.262742  14.020047  23.969373  \n",
       "        Road Runner          6.111701  27.255440  13.208419  23.890275  \n",
       "        Foghorn Leghorn      5.834159  18.903020  11.233210  26.185998  \n",
       "        Bugs Bunny           7.765922  24.358476  13.110163  23.016165  \n",
       "        Elmer Fudd           5.497366  22.104629  13.208965  24.715587  \n",
       "        Lola Bunny           4.067095  19.030388  14.449630  32.788813  \n",
       "        Porky Pig            4.926622  20.879853  14.548669  29.620180  \n",
       "        Tasmanian Devil      3.767488  22.967813   8.142671  19.172524  \n",
       "        Gossamer             6.115645  17.893704  15.108260  33.842038  \n",
       "        Granny               4.788625  20.161355  12.087753  26.441772  \n",
       "        Wile E. Coyote       4.901272  24.706396  14.142372  27.840982  \n",
       "        Tweety               4.793148  25.599307   9.493278  19.285199  \n",
       "        Penelope            10.135015  15.784495  11.123106  21.561239  \n",
       "        Daffy Duck           6.090782  21.290929  16.035789  31.576674  \n",
       "24      Sylvester            8.103431  17.141557  15.540420  35.627579  \n",
       "        Marvin the Martian   5.946458  20.536804  14.692258  27.136340  \n",
       "        Road Runner          4.128446  31.288885  14.194656  23.217432  \n",
       "        Foghorn Leghorn      5.537803  11.558287  18.537219  41.760337  \n",
       "        Bugs Bunny           6.461523  18.742333  11.018847  26.602925  \n",
       "        Elmer Fudd           4.479084  21.584222  15.028925  31.115134  \n",
       "        Lola Bunny           3.676313  15.758389  17.470836  39.649337  \n",
       "        Porky Pig            4.804639  17.612546  14.270620  30.044340  \n",
       "        Tasmanian Devil      4.890204  18.481104   8.772619  22.292927  \n",
       "        Gossamer             7.600226  13.472915  12.939615  31.612822  \n",
       "        Granny               6.627621  22.243501  13.585621  25.625755  \n",
       "        Wile E. Coyote       4.540585  27.556448  17.803003  29.002627  \n",
       "        Tweety               6.101770  23.920900  13.248830  23.062090  \n",
       "        Penelope             8.778230  15.331377   8.073478  18.584394  \n",
       "        Daffy Duck           8.003829  17.406995  16.174262  32.772701  \n",
       "36      Sylvester            7.594519  14.787909  15.104256  34.131044  \n",
       "        Marvin the Martian   6.598170  18.825025  12.286390  22.443954  \n",
       "        Road Runner          4.667389  25.219303  11.578976  25.019849  \n",
       "        Foghorn Leghorn      5.012291  28.017392  13.044875  22.511733  \n",
       "        Bugs Bunny           5.794768  10.590670  13.187857  31.714431  \n",
       "        Elmer Fudd           5.775849  22.853876  16.067098  29.577221  \n",
       "        Lola Bunny           3.914171  22.027211  14.872026  33.344650  \n",
       "        Porky Pig            5.495417  18.868502  14.952235  27.678406  \n",
       "        Tasmanian Devil      4.752332  24.771162   6.707257  16.659223  \n",
       "        Gossamer             7.205405  14.027215  13.564275  32.016736  \n",
       "        Granny               6.185020  26.585303  14.323094  26.370538  \n",
       "        Wile E. Coyote       7.170621  24.342011  17.270365  29.315535  \n",
       "        Tweety               7.055087  24.489003  11.129617  21.428418  \n",
       "        Penelope             6.424862  19.387688   7.101238  14.760541  \n",
       "        Daffy Duck           7.295149  16.303635  16.709717  34.234276  "
      ],
      "text/html": "<div>\n<style scoped>\n    .dataframe tbody tr th:only-of-type {\n        vertical-align: middle;\n    }\n\n    .dataframe tbody tr th {\n        vertical-align: top;\n    }\n\n    .dataframe thead th {\n        text-align: right;\n    }\n</style>\n<table border=\"1\" class=\"dataframe\">\n  <thead>\n    <tr style=\"text-align: right;\">\n      <th></th>\n      <th></th>\n      <th>TS%</th>\n      <th>AST</th>\n      <th>TO</th>\n      <th>USG</th>\n      <th>ORR</th>\n      <th>DRR</th>\n      <th>REBR</th>\n      <th>PER</th>\n    </tr>\n    <tr>\n      <th>minutes</th>\n      <th>player_name</th>\n      <th></th>\n      <th></th>\n      <th></th>\n      <th></th>\n      <th></th>\n      <th></th>\n      <th></th>\n      <th></th>\n    </tr>\n  </thead>\n  <tbody>\n    <tr>\n      <th rowspan=\"15\" valign=\"top\">0</th>\n      <th>Sylvester</th>\n      <td>0.628079</td>\n      <td>31.880256</td>\n      <td>16.017350</td>\n      <td>37.528374</td>\n      <td>7.378314</td>\n      <td>15.808539</td>\n      <td>12.620370</td>\n      <td>30.570892</td>\n    </tr>\n    <tr>\n      <th>Marvin the Martian</th>\n      <td>0.605415</td>\n      <td>32.757695</td>\n      <td>13.520061</td>\n      <td>29.814684</td>\n      <td>7.188854</td>\n      <td>22.245847</td>\n      <td>15.568042</td>\n      <td>26.286379</td>\n    </tr>\n    <tr>\n      <th>Road Runner</th>\n      <td>0.625036</td>\n      <td>27.334554</td>\n      <td>13.237953</td>\n      <td>35.622866</td>\n      <td>7.347782</td>\n      <td>29.907373</td>\n      <td>11.388554</td>\n      <td>19.919127</td>\n    </tr>\n    <tr>\n      <th>Foghorn Leghorn</th>\n      <td>0.622648</td>\n      <td>30.232449</td>\n      <td>14.688786</td>\n      <td>34.331606</td>\n      <td>5.432727</td>\n      <td>20.534902</td>\n      <td>16.691800</td>\n      <td>32.135753</td>\n    </tr>\n    <tr>\n      <th>Bugs Bunny</th>\n      <td>0.622456</td>\n      <td>33.180839</td>\n      <td>16.512224</td>\n      <td>30.697316</td>\n      <td>6.124458</td>\n      <td>20.079316</td>\n      <td>12.121538</td>\n      <td>22.988339</td>\n    </tr>\n    <tr>\n      <th>Elmer Fudd</th>\n      <td>0.611330</td>\n      <td>29.623998</td>\n      <td>14.635647</td>\n      <td>34.015978</td>\n      <td>4.644368</td>\n      <td>23.504214</td>\n      <td>16.471641</td>\n      <td>29.324793</td>\n    </tr>\n    <tr>\n      <th>Lola Bunny</th>\n      <td>0.644617</td>\n      <td>34.454603</td>\n      <td>13.438965</td>\n      <td>35.115908</td>\n      <td>4.999035</td>\n      <td>17.875686</td>\n      <td>16.754739</td>\n      <td>36.810543</td>\n    </tr>\n    <tr>\n      <th>Porky Pig</th>\n      <td>0.613306</td>\n      <td>30.002699</td>\n      <td>15.333303</td>\n      <td>36.308058</td>\n      <td>5.514761</td>\n      <td>16.961561</td>\n      <td>14.859159</td>\n      <td>32.055550</td>\n    </tr>\n    <tr>\n      <th>Tasmanian Devil</th>\n      <td>0.598569</td>\n      <td>27.329570</td>\n      <td>14.700239</td>\n      <td>34.882067</td>\n      <td>7.823220</td>\n      <td>18.888762</td>\n      <td>10.116038</td>\n      <td>22.094018</td>\n    </tr>\n    <tr>\n      <th>Gossamer</th>\n      <td>0.612884</td>\n      <td>30.100970</td>\n      <td>15.806333</td>\n      <td>31.919277</td>\n      <td>4.704468</td>\n      <td>17.727372</td>\n      <td>12.236466</td>\n      <td>25.237773</td>\n    </tr>\n    <tr>\n      <th>Granny</th>\n      <td>0.618286</td>\n      <td>28.308636</td>\n      <td>14.258760</td>\n      <td>38.106259</td>\n      <td>6.228661</td>\n      <td>21.079242</td>\n      <td>15.427409</td>\n      <td>31.906166</td>\n    </tr>\n    <tr>\n      <th>Wile E. Coyote</th>\n      <td>0.613921</td>\n      <td>32.520428</td>\n      <td>14.657052</td>\n      <td>34.331260</td>\n      <td>4.653507</td>\n      <td>19.785901</td>\n      <td>14.345618</td>\n      <td>29.284032</td>\n    </tr>\n    <tr>\n      <th>Tweety</th>\n      <td>0.600960</td>\n      <td>29.290845</td>\n      <td>14.043829</td>\n      <td>37.846280</td>\n      <td>7.130187</td>\n      <td>20.871512</td>\n      <td>12.100195</td>\n      <td>26.263680</td>\n    </tr>\n    <tr>\n      <th>Penelope</th>\n      <td>0.608109</td>\n      <td>26.250402</td>\n      <td>15.823502</td>\n      <td>24.268178</td>\n      <td>8.136163</td>\n      <td>15.607361</td>\n      <td>10.583555</td>\n      <td>18.151863</td>\n    </tr>\n    <tr>\n      <th>Daffy Duck</th>\n      <td>0.624806</td>\n      <td>27.951104</td>\n      <td>15.308205</td>\n      <td>32.094146</td>\n      <td>5.937624</td>\n      <td>19.410941</td>\n      <td>13.930448</td>\n      <td>27.086036</td>\n    </tr>\n    <tr>\n      <th rowspan=\"15\" valign=\"top\">12</th>\n      <th>Sylvester</th>\n      <td>0.617539</td>\n      <td>30.591061</td>\n      <td>15.183588</td>\n      <td>35.561725</td>\n      <td>6.519262</td>\n      <td>17.260559</td>\n      <td>13.854731</td>\n      <td>30.159085</td>\n    </tr>\n    <tr>\n      <th>Marvin the Martian</th>\n      <td>0.613340</td>\n      <td>29.884758</td>\n      <td>13.149368</td>\n      <td>32.485235</td>\n      <td>5.812977</td>\n      <td>26.262742</td>\n      <td>14.020047</td>\n      <td>23.969373</td>\n    </tr>\n    <tr>\n      <th>Road Runner</th>\n      <td>0.615026</td>\n      <td>27.892778</td>\n      <td>13.605268</td>\n      <td>35.975834</td>\n      <td>6.111701</td>\n      <td>27.255440</td>\n      <td>13.208419</td>\n      <td>23.890275</td>\n    </tr>\n    <tr>\n      <th>Foghorn Leghorn</th>\n      <td>0.612199</td>\n      <td>33.345787</td>\n      <td>15.675903</td>\n      <td>36.927717</td>\n      <td>5.834159</td>\n      <td>18.903020</td>\n      <td>11.233210</td>\n      <td>26.185998</td>\n    </tr>\n    <tr>\n      <th>Bugs Bunny</th>\n      <td>0.638842</td>\n      <td>31.542742</td>\n      <td>17.224226</td>\n      <td>32.937989</td>\n      <td>7.765922</td>\n      <td>24.358476</td>\n      <td>13.110163</td>\n      <td>23.016165</td>\n    </tr>\n    <tr>\n      <th>Elmer Fudd</th>\n      <td>0.615975</td>\n      <td>28.377890</td>\n      <td>16.055895</td>\n      <td>33.873703</td>\n      <td>5.497366</td>\n      <td>22.104629</td>\n      <td>13.208965</td>\n      <td>24.715587</td>\n    </tr>\n    <tr>\n      <th>Lola Bunny</th>\n      <td>0.642895</td>\n      <td>33.919682</td>\n      <td>13.584969</td>\n      <td>34.934210</td>\n      <td>4.067095</td>\n      <td>19.030388</td>\n      <td>14.449630</td>\n      <td>32.788813</td>\n    </tr>\n    <tr>\n      <th>Porky Pig</th>\n      <td>0.603863</td>\n      <td>33.156898</td>\n      <td>15.304778</td>\n      <td>37.120794</td>\n      <td>4.926622</td>\n      <td>20.879853</td>\n      <td>14.548669</td>\n      <td>29.620180</td>\n    </tr>\n    <tr>\n      <th>Tasmanian Devil</th>\n      <td>0.616034</td>\n      <td>28.062522</td>\n      <td>15.140335</td>\n      <td>35.723937</td>\n      <td>3.767488</td>\n      <td>22.967813</td>\n      <td>8.142671</td>\n      <td>19.172524</td>\n    </tr>\n    <tr>\n      <th>Gossamer</th>\n      <td>0.620506</td>\n      <td>38.166957</td>\n      <td>14.397572</td>\n      <td>37.035178</td>\n      <td>6.115645</td>\n      <td>17.893704</td>\n      <td>15.108260</td>\n      <td>33.842038</td>\n    </tr>\n    <tr>\n      <th>Granny</th>\n      <td>0.620448</td>\n      <td>24.183857</td>\n      <td>14.930653</td>\n      <td>36.265654</td>\n      <td>4.788625</td>\n      <td>20.161355</td>\n      <td>12.087753</td>\n      <td>26.441772</td>\n    </tr>\n    <tr>\n      <th>Wile E. Coyote</th>\n      <td>0.624724</td>\n      <td>35.352435</td>\n      <td>13.231319</td>\n      <td>34.769541</td>\n      <td>4.901272</td>\n      <td>24.706396</td>\n      <td>14.142372</td>\n      <td>27.840982</td>\n    </tr>\n    <tr>\n      <th>Tweety</th>\n      <td>0.601842</td>\n      <td>25.968105</td>\n      <td>12.176528</td>\n      <td>34.874924</td>\n      <td>4.793148</td>\n      <td>25.599307</td>\n      <td>9.493278</td>\n      <td>19.285199</td>\n    </tr>\n    <tr>\n      <th>Penelope</th>\n      <td>0.607510</td>\n      <td>23.292980</td>\n      <td>16.309485</td>\n      <td>30.724367</td>\n      <td>10.135015</td>\n      <td>15.784495</td>\n      <td>11.123106</td>\n      <td>21.561239</td>\n    </tr>\n    <tr>\n      <th>Daffy Duck</th>\n      <td>0.636154</td>\n      <td>32.940809</td>\n      <td>14.940294</td>\n      <td>34.480819</td>\n      <td>6.090782</td>\n      <td>21.290929</td>\n      <td>16.035789</td>\n      <td>31.576674</td>\n    </tr>\n    <tr>\n      <th rowspan=\"15\" valign=\"top\">24</th>\n      <th>Sylvester</th>\n      <td>0.630594</td>\n      <td>33.204930</td>\n      <td>13.649513</td>\n      <td>38.230931</td>\n      <td>8.103431</td>\n      <td>17.141557</td>\n      <td>15.540420</td>\n      <td>35.627579</td>\n    </tr>\n    <tr>\n      <th>Marvin the Martian</th>\n      <td>0.603953</td>\n      <td>30.844569</td>\n      <td>15.220002</td>\n      <td>33.006522</td>\n      <td>5.946458</td>\n      <td>20.536804</td>\n      <td>14.692258</td>\n      <td>27.136340</td>\n    </tr>\n    <tr>\n      <th>Road Runner</th>\n      <td>0.630925</td>\n      <td>29.607876</td>\n      <td>12.444001</td>\n      <td>33.035540</td>\n      <td>4.128446</td>\n      <td>31.288885</td>\n      <td>14.194656</td>\n      <td>23.217432</td>\n    </tr>\n    <tr>\n      <th>Foghorn Leghorn</th>\n      <td>0.619043</td>\n      <td>32.741681</td>\n      <td>14.093236</td>\n      <td>36.261750</td>\n      <td>5.537803</td>\n      <td>11.558287</td>\n      <td>18.537219</td>\n      <td>41.760337</td>\n    </tr>\n    <tr>\n      <th>Bugs Bunny</th>\n      <td>0.636565</td>\n      <td>33.292072</td>\n      <td>14.410694</td>\n      <td>34.734662</td>\n      <td>6.461523</td>\n      <td>18.742333</td>\n      <td>11.018847</td>\n      <td>26.602925</td>\n    </tr>\n    <tr>\n      <th>Elmer Fudd</th>\n      <td>0.620728</td>\n      <td>29.428950</td>\n      <td>15.460059</td>\n      <td>38.197273</td>\n      <td>4.479084</td>\n      <td>21.584222</td>\n      <td>15.028925</td>\n      <td>31.115134</td>\n    </tr>\n    <tr>\n      <th>Lola Bunny</th>\n      <td>0.623635</td>\n      <td>35.038862</td>\n      <td>13.974588</td>\n      <td>37.848015</td>\n      <td>3.676313</td>\n      <td>15.758389</td>\n      <td>17.470836</td>\n      <td>39.649337</td>\n    </tr>\n    <tr>\n      <th>Porky Pig</th>\n      <td>0.615351</td>\n      <td>30.626816</td>\n      <td>15.477345</td>\n      <td>34.526685</td>\n      <td>4.804639</td>\n      <td>17.612546</td>\n      <td>14.270620</td>\n      <td>30.044340</td>\n    </tr>\n    <tr>\n      <th>Tasmanian Devil</th>\n      <td>0.623542</td>\n      <td>26.339929</td>\n      <td>14.104379</td>\n      <td>33.911297</td>\n      <td>4.890204</td>\n      <td>18.481104</td>\n      <td>8.772619</td>\n      <td>22.292927</td>\n    </tr>\n    <tr>\n      <th>Gossamer</th>\n      <td>0.626670</td>\n      <td>28.782939</td>\n      <td>14.382570</td>\n      <td>35.330390</td>\n      <td>7.600226</td>\n      <td>13.472915</td>\n      <td>12.939615</td>\n      <td>31.612822</td>\n    </tr>\n    <tr>\n      <th>Granny</th>\n      <td>0.598429</td>\n      <td>27.193810</td>\n      <td>13.998507</td>\n      <td>35.090184</td>\n      <td>6.627621</td>\n      <td>22.243501</td>\n      <td>13.585621</td>\n      <td>25.625755</td>\n    </tr>\n    <tr>\n      <th>Wile E. Coyote</th>\n      <td>0.605831</td>\n      <td>29.769612</td>\n      <td>13.723313</td>\n      <td>34.191866</td>\n      <td>4.540585</td>\n      <td>27.556448</td>\n      <td>17.803003</td>\n      <td>29.002627</td>\n    </tr>\n    <tr>\n      <th>Tweety</th>\n      <td>0.609949</td>\n      <td>27.613418</td>\n      <td>15.749649</td>\n      <td>33.566611</td>\n      <td>6.101770</td>\n      <td>23.920900</td>\n      <td>13.248830</td>\n      <td>23.062090</td>\n    </tr>\n    <tr>\n      <th>Penelope</th>\n      <td>0.615847</td>\n      <td>23.927882</td>\n      <td>16.119896</td>\n      <td>30.711474</td>\n      <td>8.778230</td>\n      <td>15.331377</td>\n      <td>8.073478</td>\n      <td>18.584394</td>\n    </tr>\n    <tr>\n      <th>Daffy Duck</th>\n      <td>0.625270</td>\n      <td>29.729949</td>\n      <td>14.673977</td>\n      <td>34.256712</td>\n      <td>8.003829</td>\n      <td>17.406995</td>\n      <td>16.174262</td>\n      <td>32.772701</td>\n    </tr>\n    <tr>\n      <th rowspan=\"15\" valign=\"top\">36</th>\n      <th>Sylvester</th>\n      <td>0.628925</td>\n      <td>29.055106</td>\n      <td>15.174990</td>\n      <td>36.352303</td>\n      <td>7.594519</td>\n      <td>14.787909</td>\n      <td>15.104256</td>\n      <td>34.131044</td>\n    </tr>\n    <tr>\n      <th>Marvin the Martian</th>\n      <td>0.580917</td>\n      <td>31.371771</td>\n      <td>14.530315</td>\n      <td>30.714335</td>\n      <td>6.598170</td>\n      <td>18.825025</td>\n      <td>12.286390</td>\n      <td>22.443954</td>\n    </tr>\n    <tr>\n      <th>Road Runner</th>\n      <td>0.627653</td>\n      <td>27.806445</td>\n      <td>14.410112</td>\n      <td>38.487478</td>\n      <td>4.667389</td>\n      <td>25.219303</td>\n      <td>11.578976</td>\n      <td>25.019849</td>\n    </tr>\n    <tr>\n      <th>Foghorn Leghorn</th>\n      <td>0.628753</td>\n      <td>31.302979</td>\n      <td>14.255742</td>\n      <td>33.119382</td>\n      <td>5.012291</td>\n      <td>28.017392</td>\n      <td>13.044875</td>\n      <td>22.511733</td>\n    </tr>\n    <tr>\n      <th>Bugs Bunny</th>\n      <td>0.636868</td>\n      <td>30.279529</td>\n      <td>16.885360</td>\n      <td>32.295826</td>\n      <td>5.794768</td>\n      <td>10.590670</td>\n      <td>13.187857</td>\n      <td>31.714431</td>\n    </tr>\n    <tr>\n      <th>Elmer Fudd</th>\n      <td>0.616083</td>\n      <td>28.274177</td>\n      <td>15.444813</td>\n      <td>35.697587</td>\n      <td>5.775849</td>\n      <td>22.853876</td>\n      <td>16.067098</td>\n      <td>29.577221</td>\n    </tr>\n    <tr>\n      <th>Lola Bunny</th>\n      <td>0.636427</td>\n      <td>35.615540</td>\n      <td>13.524308</td>\n      <td>38.198518</td>\n      <td>3.914171</td>\n      <td>22.027211</td>\n      <td>14.872026</td>\n      <td>33.344650</td>\n    </tr>\n    <tr>\n      <th>Porky Pig</th>\n      <td>0.620593</td>\n      <td>28.701993</td>\n      <td>16.209001</td>\n      <td>31.082578</td>\n      <td>5.495417</td>\n      <td>18.868502</td>\n      <td>14.952235</td>\n      <td>27.678406</td>\n    </tr>\n    <tr>\n      <th>Tasmanian Devil</th>\n      <td>0.614812</td>\n      <td>24.583705</td>\n      <td>14.007519</td>\n      <td>36.767754</td>\n      <td>4.752332</td>\n      <td>24.771162</td>\n      <td>6.707257</td>\n      <td>16.659223</td>\n    </tr>\n    <tr>\n      <th>Gossamer</th>\n      <td>0.628733</td>\n      <td>33.286349</td>\n      <td>14.114633</td>\n      <td>33.780562</td>\n      <td>7.205405</td>\n      <td>14.027215</td>\n      <td>13.564275</td>\n      <td>32.016736</td>\n    </tr>\n    <tr>\n      <th>Granny</th>\n      <td>0.617895</td>\n      <td>30.687275</td>\n      <td>14.694965</td>\n      <td>37.151209</td>\n      <td>6.185020</td>\n      <td>26.585303</td>\n      <td>14.323094</td>\n      <td>26.370538</td>\n    </tr>\n    <tr>\n      <th>Wile E. Coyote</th>\n      <td>0.593463</td>\n      <td>29.814351</td>\n      <td>14.860217</td>\n      <td>35.950947</td>\n      <td>7.170621</td>\n      <td>24.342011</td>\n      <td>17.270365</td>\n      <td>29.315535</td>\n    </tr>\n    <tr>\n      <th>Tweety</th>\n      <td>0.618162</td>\n      <td>26.772535</td>\n      <td>14.649411</td>\n      <td>35.072876</td>\n      <td>7.055087</td>\n      <td>24.489003</td>\n      <td>11.129617</td>\n      <td>21.428418</td>\n    </tr>\n    <tr>\n      <th>Penelope</th>\n      <td>0.616470</td>\n      <td>25.737714</td>\n      <td>14.603275</td>\n      <td>28.024761</td>\n      <td>6.424862</td>\n      <td>19.387688</td>\n      <td>7.101238</td>\n      <td>14.760541</td>\n    </tr>\n    <tr>\n      <th>Daffy Duck</th>\n      <td>0.642876</td>\n      <td>29.368934</td>\n      <td>14.681440</td>\n      <td>32.410071</td>\n      <td>7.295149</td>\n      <td>16.303635</td>\n      <td>16.709717</td>\n      <td>34.234276</td>\n    </tr>\n  </tbody>\n</table>\n</div>"
     },
     "metadata": {},
     "execution_count": 20
    }
   ],
   "source": [
    "# Initialize four empty DataFrames, one for each 12-minute period.\n",
    "number_of_iterations = 4\n",
    "df_list = [pd.DataFrame(columns=game_stat_cols, index=list(ts_df['player_name'])) for i in range(number_of_iterations)]\n",
    "\n",
    "# For each period, generate randomized player data and predict the PER.\n",
    "# Use the model fitted earlier.\n",
    "for df in df_list:\n",
    "    for stat in game_stat_cols:\n",
    "        df[stat] = list(ts_df[stat] + randn(len(ts_df)) * stdev_s[stat])\n",
    "    df['PER'] = lin_reg.predict(df)\n",
    "\n",
    "# Concatenate the DataFrames and make the players' names the index.\n",
    "game_df = pd.concat(df_list)\n",
    "game_df.rename_axis('player_name', inplace=True)\n",
    "\n",
    "# Create another index for the period in question.\n",
    "minutes = [(x // len(ts_df)) * 12 for x in range(len(game_df))]\n",
    "game_df['minutes'] = minutes\n",
    "game_df.set_index('minutes', append=True, inplace=True)\n",
    "game_df = game_df.swaplevel()\n",
    "\n",
    "game_df"
   ]
  },
  {
   "cell_type": "code",
   "execution_count": 21,
   "metadata": {},
   "outputs": [],
   "source": [
    "# Export the finished DataFrame to CSV.\n",
    "game_df.to_csv('game_stats.csv')"
   ]
  },
  {
   "cell_type": "code",
   "execution_count": null,
   "metadata": {},
   "outputs": [],
   "source": []
  }
 ]
}