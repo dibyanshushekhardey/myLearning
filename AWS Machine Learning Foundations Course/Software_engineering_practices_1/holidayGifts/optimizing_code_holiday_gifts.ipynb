{
 "cells": [
  {
   "cell_type": "markdown",
   "source": [
    "# Optimizing Code: Holiday Gifts\r\n",
    "In the last example, you learned that using vectorized operations and more efficient data structures can optimize your code. Let's use these tips for one more example.\r\n",
    "\r\n",
    "Say your online gift store has one million users that each listed a gift on a wish list. You have the prices for each of these gifts stored in `gift_costs.txt`. For the holidays, you're going to give each customer their wish list gift for free if it is under 25 dollars. Now, you want to calculate the total cost of all gifts under 25 dollars to see how much you'd spend on free gifts. Here's one way you could've done it."
   ],
   "metadata": {}
  },
  {
   "cell_type": "code",
   "execution_count": 1,
   "source": [
    "import time\r\n",
    "import numpy as np"
   ],
   "outputs": [],
   "metadata": {}
  },
  {
   "cell_type": "code",
   "execution_count": 2,
   "source": [
    "with open('gift_costs.txt') as f:\r\n",
    "    gift_costs = f.read().split('\\n')\r\n",
    "    \r\n",
    "gift_costs = np.array(gift_costs).astype(int)  # convert string to int"
   ],
   "outputs": [],
   "metadata": {}
  },
  {
   "cell_type": "code",
   "execution_count": 3,
   "source": [
    "start = time.time()\r\n",
    "\r\n",
    "total_price = 0\r\n",
    "for cost in gift_costs:\r\n",
    "    if cost < 25:\r\n",
    "        total_price += cost * 1.08  # add cost after tax\r\n",
    "\r\n",
    "print(total_price)\r\n",
    "print('Duration: {} seconds'.format(time.time() - start))"
   ],
   "outputs": [
    {
     "output_type": "stream",
     "name": "stdout",
     "text": [
      "888937.1999999991\n",
      "Duration: 0.679065465927124 seconds\n"
     ]
    }
   ],
   "metadata": {}
  },
  {
   "cell_type": "markdown",
   "source": [
    "Here you iterate through each cost in the list, and check if it's less than 25. If so, you add the cost to the total price after tax. This works, but there is a much faster way to do this. Can you refactor this to run under half a second?"
   ],
   "metadata": {}
  },
  {
   "cell_type": "markdown",
   "source": [
    "## Refactor Code\n",
    "**Hint:** Using numpy makes it very easy to select all the elements in an array that meet a certain condition, and then perform operations on them together all at once. You can them find the sum of what those values end up being."
   ],
   "metadata": {}
  },
  {
   "cell_type": "code",
   "execution_count": 5,
   "source": [
    "start = time.time()\r\n",
    "\r\n",
    "total_price = (gift_costs[gift_costs < 25]).sum() * 1.08 # TODO: compute the total price\r\n",
    "\r\n",
    "print(total_price)\r\n",
    "print('Duration: {} seconds'.format(time.time() - start))"
   ],
   "outputs": [
    {
     "output_type": "stream",
     "name": "stdout",
     "text": [
      "888937.2000000001\n",
      "Duration: 0.0 seconds\n"
     ]
    }
   ],
   "metadata": {}
  },
  {
   "cell_type": "code",
   "execution_count": null,
   "source": [],
   "outputs": [],
   "metadata": {}
  }
 ],
 "metadata": {
  "kernelspec": {
   "name": "python3",
   "display_name": "Python 3.8.3 32-bit"
  },
  "language_info": {
   "codemirror_mode": {
    "name": "ipython",
    "version": 3
   },
   "file_extension": ".py",
   "mimetype": "text/x-python",
   "name": "python",
   "nbconvert_exporter": "python",
   "pygments_lexer": "ipython3",
   "version": "3.8.3"
  },
  "interpreter": {
   "hash": "98c15b35245ecdc8b03f65cef943e10afb16f8e20f8ad6c610dbebcca1758bba"
  }
 },
 "nbformat": 4,
 "nbformat_minor": 2
}