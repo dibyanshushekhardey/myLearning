{
 "cells": [
  {
   "cell_type": "markdown",
   "source": [
    "# Use the Shirt Class\n",
    "\n",
    "You've seen what a class looks like and how to instantiate an object. Now it's your turn to write code that insantiates a shirt object.\n",
    "\n",
    "# Explanation of the Code\n",
    "This exercise using Jupyter notebook includes three files:\n",
    "- shirt_exercise.ipynb, which is the file you are currently looking at\n",
    "- answer.py containing answers to the exercise\n",
    "- tests.py, tests for checking your code - you can run these tests using the last code cell at the bottom of this notebook\n",
    "\n",
    "# Your Task\n",
    "The shirt_exercise.ipynb file, which you are currently looking at if you are reading this, has an exercise to help guide you through coding with an object in Python.\n",
    "\n",
    "Fill out the TODOs in each section of the Jupyter notebook. You can find a solution in the answer.py file.\n",
    "\n",
    "First, run this code cell below to load the Shirt class."
   ],
   "metadata": {}
  },
  {
   "cell_type": "code",
   "execution_count": 1,
   "source": [
    "class Shirt:\r\n",
    "\r\n",
    "    def __init__(self, shirt_color, shirt_size, shirt_style, shirt_price):\r\n",
    "        self.color = shirt_color\r\n",
    "        self.size = shirt_size\r\n",
    "        self.style = shirt_style\r\n",
    "        self.price = shirt_price\r\n",
    "    \r\n",
    "    def change_price(self, new_price):\r\n",
    "    \r\n",
    "        self.price = new_price\r\n",
    "        \r\n",
    "    def discount(self, discount):\r\n",
    "\r\n",
    "        return self.price * (1 - discount)"
   ],
   "outputs": [],
   "metadata": {}
  },
  {
   "cell_type": "code",
   "execution_count": 3,
   "source": [
    "### TODO:\r\n",
    "#    - insantiate a shirt object with the following characteristics:\r\n",
    "#        - color red, size S, style long-sleeve, and price 25\r\n",
    "#    - store the object in a variable called shirt_one\r\n",
    "#\r\n",
    "#\r\n",
    "###\r\n",
    "Shirt('red', 'S', 'long-sleeve', 25)"
   ],
   "outputs": [
    {
     "output_type": "execute_result",
     "data": {
      "text/plain": [
       "<__main__.Shirt at 0x6148898>"
      ]
     },
     "metadata": {},
     "execution_count": 3
    }
   ],
   "metadata": {}
  },
  {
   "cell_type": "code",
   "execution_count": 4,
   "source": [
    "shirt_one = Shirt('red', 'S', 'long-sleeve', 25)"
   ],
   "outputs": [],
   "metadata": {}
  },
  {
   "cell_type": "code",
   "execution_count": 16,
   "source": [
    "### TODO:\r\n",
    "#     - print the price of the shirt using the price attribute\r\n",
    "#     - use the change_price method to change the price of the shirt to 10\r\n",
    "#     - print the price of the shirt using the price attribute\r\n",
    "#     - use the discount method to print the price of the shirt with a 12% discount\r\n",
    "#\r\n",
    "###\r\n",
    "\r\n",
    "print(shirt_one.price)\r\n",
    "shirt_one.change_price(10)\r\n",
    "print(shirt_one.price)\r\n",
    "print(shirt_one.discount(.12))"
   ],
   "outputs": [
    {
     "output_type": "stream",
     "name": "stdout",
     "text": [
      "10\n",
      "10\n",
      "8.8\n"
     ]
    }
   ],
   "metadata": {}
  },
  {
   "cell_type": "code",
   "execution_count": 17,
   "source": [
    "### TODO:\r\n",
    "#\r\n",
    "#    - instantiate another object with the following characteristics:\r\n",
    "# .       - color orange, size L, style short-sleeve, and price 10\r\n",
    "#    - store the object in a variable called shirt_two\r\n",
    "#\r\n",
    "###\r\n",
    "shirt_two = Shirt('orange', 'L', 'short-sleeve', 10)"
   ],
   "outputs": [],
   "metadata": {}
  },
  {
   "cell_type": "code",
   "execution_count": 18,
   "source": [
    "### TODO:\r\n",
    "#\r\n",
    "#    - calculate the total cost of shirt_one and shirt_two\r\n",
    "#    - store the results in a variable called total\r\n",
    "#    \r\n",
    "###\r\n",
    "total = shirt_one.price + shirt_two.price\r\n",
    "#print(total)"
   ],
   "outputs": [],
   "metadata": {}
  },
  {
   "cell_type": "code",
   "execution_count": 19,
   "source": [
    "### TODO:\r\n",
    "#\r\n",
    "#    - use the shirt discount method to calculate the total cost if\r\n",
    "#       shirt_one has a discount of 14% and shirt_two has a discount\r\n",
    "#       of 6%\r\n",
    "#    - store the results in a variable called total_discount\r\n",
    "###\r\n",
    "total_discount = shirt_one.discount(.14) + shirt_two.discount(.06)\r\n",
    "#print(total_discount)"
   ],
   "outputs": [],
   "metadata": {}
  },
  {
   "cell_type": "markdown",
   "source": [
    "# Test your Code\n",
    "\n",
    "\n",
    "The following code cell tests your code. \n",
    "\n",
    "There is a file called tests.py containing a function called run_tests(). The run_tests() function executes a handful of assert statements to check your work. You can see this file if you go to the Jupyter Notebook menu and click on \"File->Open\" and then open the tests.py file.\n",
    "\n",
    "Execute the next code cell. The code will produce an error if your answers in this exercise are not what was expected. Keep working on your code until all tests are passing.\n",
    "\n",
    "If you run the code cell and there is no output, then you passed all the tests!\n",
    "\n",
    "As mentioned previously, there's also a file with a solution. To find the solution, click on the Jupyter logo at the top of the workspace, and then enter the folder titled 1.OOP_syntax_shirt_practice"
   ],
   "metadata": {}
  },
  {
   "cell_type": "code",
   "execution_count": 38,
   "source": [
    "# Unit tests to check your solution\r\n",
    "from tests import run_tests\r\n",
    "\r\n",
    "run_tests(shirt_one, shirt_two, total, total_discount)"
   ],
   "outputs": [
    {
     "output_type": "error",
     "ename": "ImportError",
     "evalue": "cannot import name 'run_tests' from 'tests' (C:\\Users\\Hp\\AppData\\Local\\Programs\\Python\\Python38-32\\lib\\site-packages\\IPython\\extensions\\tests\\__init__.py)",
     "traceback": [
      "\u001b[1;31m---------------------------------------------------------------------------\u001b[0m",
      "\u001b[1;31mImportError\u001b[0m                               Traceback (most recent call last)",
      "\u001b[1;32m<ipython-input-38-e766ade7ad85>\u001b[0m in \u001b[0;36m<module>\u001b[1;34m\u001b[0m\n\u001b[0;32m      1\u001b[0m \u001b[1;31m# Unit tests to check your solution\u001b[0m\u001b[1;33m\u001b[0m\u001b[1;33m\u001b[0m\u001b[1;33m\u001b[0m\u001b[0m\n\u001b[1;32m----> 2\u001b[1;33m \u001b[1;32mfrom\u001b[0m \u001b[0mtests\u001b[0m \u001b[1;32mimport\u001b[0m \u001b[0mrun_tests\u001b[0m\u001b[1;33m\u001b[0m\u001b[1;33m\u001b[0m\u001b[0m\n\u001b[0m\u001b[0;32m      3\u001b[0m \u001b[1;33m\u001b[0m\u001b[0m\n\u001b[0;32m      4\u001b[0m \u001b[0mrun_tests\u001b[0m\u001b[1;33m(\u001b[0m\u001b[0mshirt_one\u001b[0m\u001b[1;33m,\u001b[0m \u001b[0mshirt_two\u001b[0m\u001b[1;33m,\u001b[0m \u001b[0mtotal\u001b[0m\u001b[1;33m,\u001b[0m \u001b[0mtotal_discount\u001b[0m\u001b[1;33m)\u001b[0m\u001b[1;33m\u001b[0m\u001b[1;33m\u001b[0m\u001b[0m\n",
      "\u001b[1;31mImportError\u001b[0m: cannot import name 'run_tests' from 'tests' (C:\\Users\\Hp\\AppData\\Local\\Programs\\Python\\Python38-32\\lib\\site-packages\\IPython\\extensions\\tests\\__init__.py)"
     ]
    }
   ],
   "metadata": {}
  },
  {
   "cell_type": "code",
   "execution_count": null,
   "source": [],
   "outputs": [],
   "metadata": {}
  },
  {
   "cell_type": "code",
   "execution_count": null,
   "source": [],
   "outputs": [],
   "metadata": {}
  }
 ],
 "metadata": {
  "kernelspec": {
   "name": "python3",
   "display_name": "Python 3.8.3 32-bit"
  },
  "language_info": {
   "codemirror_mode": {
    "name": "ipython",
    "version": 3
   },
   "file_extension": ".py",
   "mimetype": "text/x-python",
   "name": "python",
   "nbconvert_exporter": "python",
   "pygments_lexer": "ipython3",
   "version": "3.8.3"
  },
  "interpreter": {
   "hash": "98c15b35245ecdc8b03f65cef943e10afb16f8e20f8ad6c610dbebcca1758bba"
  }
 },
 "nbformat": 4,
 "nbformat_minor": 2
}