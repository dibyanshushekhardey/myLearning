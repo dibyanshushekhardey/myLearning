{
 "cells": [
  {
   "cell_type": "code",
   "execution_count": 1,
   "metadata": {},
   "outputs": [
    {
     "name": "stdout",
     "output_type": "stream",
     "text": [
      "[{\"name\": \"Sabrina Green\", \"username\": \"sgreen\", \"phone\": {\"office\": \"802-867-5309\", \"cell\": \"802-867-5310\"}, \"department\": \"IT Infrastructure\", \"role\": \"Systems Administrator\"}, {\"name\": \"Eli Jones\", \"username\": \"ejones\", \"phone\": {\"office\": \"684-348-1127\"}, \"department\": \"IT Infrastructure\", \"role\": \"IT Specialist\"}]\n"
     ]
    }
   ],
   "source": [
    "import json\n",
    "\n",
    "people = [\n",
    "  {\n",
    "    \"name\": \"Sabrina Green\",\n",
    "    \"username\": \"sgreen\",\n",
    "    \"phone\": {\n",
    "      \"office\": \"802-867-5309\",\n",
    "      \"cell\": \"802-867-5310\"\n",
    "    },\n",
    "    \"department\": \"IT Infrastructure\",\n",
    "    \"role\": \"Systems Administrator\"\n",
    "  },\n",
    "  {\n",
    "    \"name\": \"Eli Jones\",\n",
    "    \"username\": \"ejones\",\n",
    "    \"phone\": {\n",
    "      \"office\": \"684-348-1127\"\n",
    "    },\n",
    "    \"department\": \"IT Infrastructure\",\n",
    "    \"role\": \"IT Specialist\"\n",
    "  }\n",
    "]\n",
    "\n",
    "with open('people.json', 'w') as people_json:\n",
    "    json.dump(people, people_json)\n",
    "    \n",
    "people_json = json.dumps(people)\n",
    "print(people_json)"
   ]
  },
  {
   "cell_type": "code",
   "execution_count": 3,
   "metadata": {},
   "outputs": [
    {
     "name": "stdout",
     "output_type": "stream",
     "text": [
      "[{'name': 'Sabrina Green', 'username': 'sgreen', 'phone': {'office': '802-867-5309', 'cell': '802-867-5310'}, 'department': 'IT Infrastructure', 'role': 'Systems Administrator'}, {'name': 'Eli Jones', 'username': 'ejones', 'phone': {'office': '684-348-1127'}, 'department': 'IT Infrastructure', 'role': 'IT Specialist'}]\n"
     ]
    }
   ],
   "source": [
    "import json\n",
    "with open('people.json', 'r') as people_json:\n",
    "    people = json.load(people_json)\n",
    "\n",
    "print(people)"
   ]
  },
  {
   "cell_type": "code",
   "execution_count": 4,
   "metadata": {},
   "outputs": [
    {
     "name": "stdout",
     "output_type": "stream",
     "text": [
      "<!doctype html><html itemscope=\"\" itemtype=\"http://schema.org/WebPage\" lang=\"en-IN\"><head><meta content=\"text/html; charset=UTF-8\" http-equiv=\"Content-Type\"><meta content=\"/images/branding/googleg/1x/googleg_standard_color_128dp.png\" itemprop=\"image\"><title>Google</title><script nonce=\"CjpPn92wftJPc\n"
     ]
    }
   ],
   "source": [
    "import requests\n",
    "response = requests.get('https://www.google.com')\n",
    "print(response.text[:300])"
   ]
  },
  {
   "cell_type": "code",
   "execution_count": 5,
   "metadata": {},
   "outputs": [
    {
     "name": "stdout",
     "output_type": "stream",
     "text": [
      "b'\\x1f\\x8b\\x08\\x00\\x00\\x00\\x00\\x00\\x02\\xff\\xc5[\\xfbz\\xd3H\\x96\\xff\\x9f\\xa7P\\xc4\\xd7\\x89\\xbd\\x91m]lI\\xb6Q\\xd8\\x10\\xd2\\x90n\\x1aX.\\x03=4\\x93\\xaf$\\x95m\\x11\\xdd\"\\xc9q\\xd2\\x89\\xdfe\\x1fu\\x7f\\xa7t\\xb1\\x9c\\x84fv\\x06v\\xe9\\xc6\\xaa\\xcb\\xa9S\\xe7^\\xa7\\x8e\\xc4\\xa3\\x1d?\\xf1\\x8a\\xab\\x94K\\x8b\"\\n\\x0f\\x1e\\xd1\\xaf\\x14\\x14<\\xca\\xbd'\n"
     ]
    }
   ],
   "source": [
    "response = requests.get('https://www.google.com', stream = True)\n",
    "print(response.raw.read()[:100])"
   ]
  },
  {
   "cell_type": "code",
   "execution_count": 6,
   "metadata": {},
   "outputs": [
    {
     "data": {
      "text/plain": [
       "'gzip, deflate'"
      ]
     },
     "execution_count": 6,
     "metadata": {},
     "output_type": "execute_result"
    }
   ],
   "source": [
    "response.request.headers['Accept-Encoding']"
   ]
  },
  {
   "cell_type": "code",
   "execution_count": 7,
   "metadata": {},
   "outputs": [
    {
     "data": {
      "text/plain": [
       "'gzip'"
      ]
     },
     "execution_count": 7,
     "metadata": {},
     "output_type": "execute_result"
    }
   ],
   "source": [
    " response.headers['Content-Encoding']"
   ]
  },
  {
   "cell_type": "code",
   "execution_count": 8,
   "metadata": {},
   "outputs": [
    {
     "data": {
      "text/plain": [
       "True"
      ]
     },
     "execution_count": 8,
     "metadata": {},
     "output_type": "execute_result"
    }
   ],
   "source": [
    "response.ok"
   ]
  },
  {
   "cell_type": "code",
   "execution_count": 9,
   "metadata": {},
   "outputs": [
    {
     "data": {
      "text/plain": [
       "200"
      ]
     },
     "execution_count": 9,
     "metadata": {},
     "output_type": "execute_result"
    }
   ],
   "source": [
    "response.status_code"
   ]
  },
  {
   "cell_type": "code",
   "execution_count": 10,
   "metadata": {},
   "outputs": [],
   "source": [
    "url = 'https://www.google.com'\n",
    "response = requests.get(url)\n",
    "if not response.ok:\n",
    "    raise Exception(\"GET failed with status code {}\".format(response.status_code))"
   ]
  },
  {
   "cell_type": "code",
   "execution_count": 11,
   "metadata": {},
   "outputs": [],
   "source": [
    "response = requests.get(url)\n",
    "response.raise_for_status()"
   ]
  },
  {
   "cell_type": "code",
   "execution_count": 12,
   "metadata": {},
   "outputs": [
    {
     "data": {
      "text/plain": [
       "'https://example.com/path/to/api?search=grey+kitten&max_results=15'"
      ]
     },
     "execution_count": 12,
     "metadata": {},
     "output_type": "execute_result"
    }
   ],
   "source": [
    "p = {'search': 'grey kitten', 'max_results': 15}\n",
    "response = requests.get(\"https://example.com/path/to/api\", params = p)\n",
    "response.request.url"
   ]
  },
  {
   "cell_type": "code",
   "execution_count": 13,
   "metadata": {},
   "outputs": [],
   "source": [
    "p = {'description': 'white kitten', \n",
    "    'name': 'snowball', \n",
    "    'age_months': 6}\n",
    "response = requests.post('https://example.com/path/to/api', data=p)"
   ]
  },
  {
   "cell_type": "code",
   "execution_count": 14,
   "metadata": {},
   "outputs": [
    {
     "data": {
      "text/plain": [
       "'https://example.com/path/to/api'"
      ]
     },
     "execution_count": 14,
     "metadata": {},
     "output_type": "execute_result"
    }
   ],
   "source": [
    "response.request.url"
   ]
  },
  {
   "cell_type": "code",
   "execution_count": 15,
   "metadata": {},
   "outputs": [
    {
     "data": {
      "text/plain": [
       "'description=white+kitten&name=snowball&age_months=6'"
      ]
     },
     "execution_count": 15,
     "metadata": {},
     "output_type": "execute_result"
    }
   ],
   "source": [
    "response.request.body"
   ]
  },
  {
   "cell_type": "code",
   "execution_count": 16,
   "metadata": {},
   "outputs": [
    {
     "data": {
      "text/plain": [
       "b'{\"description\": \"white kitten\", \"name\": \"snowball\", \"age_months\": 6}'"
      ]
     },
     "execution_count": 16,
     "metadata": {},
     "output_type": "execute_result"
    }
   ],
   "source": [
    "response = requests.post(\"https://example.com/path/to/api\", json=p)\n",
    "response.request.body    "
   ]
  },
  {
   "cell_type": "code",
   "execution_count": 17,
   "metadata": {},
   "outputs": [
    {
     "data": {
      "text/plain": [
       "'https://example.com/path/to/api'"
      ]
     },
     "execution_count": 17,
     "metadata": {},
     "output_type": "execute_result"
    }
   ],
   "source": [
    "response.request.url"
   ]
  },
  {
   "cell_type": "code",
   "execution_count": null,
   "metadata": {},
   "outputs": [],
   "source": []
  }
 ],
 "metadata": {
  "kernelspec": {
   "display_name": "Python 3",
   "language": "python",
   "name": "python3"
  },
  "language_info": {
   "codemirror_mode": {
    "name": "ipython",
    "version": 3
   },
   "file_extension": ".py",
   "mimetype": "text/x-python",
   "name": "python",
   "nbconvert_exporter": "python",
   "pygments_lexer": "ipython3",
   "version": "3.8.3"
  }
 },
 "nbformat": 4,
 "nbformat_minor": 4
}
